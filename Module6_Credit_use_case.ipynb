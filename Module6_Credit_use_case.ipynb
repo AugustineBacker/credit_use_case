{
  "cells": [
    {
      "cell_type": "markdown",
      "id": "a5cc8190",
      "metadata": {
        "id": "a5cc8190"
      },
      "source": [
        "# Module 6: CFA\n",
        "# Use Case: Credit Risk - Identifying Bad Credit Risks\n",
        "# ===========================================\n",
        "\n",
        "In this example, we aim to predict bad consumer credits, and we develop a classification model for this purpose, driven by loan and debtor attributes. We would use this model to accept or reject a customer’s business.\n",
        "\n",
        "Dataset: Credit risk https://datahub.io/machine-learning/credit-g\n",
        "Dua, D. and Graff, C. (2019). UCI Machine Learning Repository [http://archive.ics.uci.edu/ml]. Irvine, CA: University of California, School of Information and Computer Science."
      ]
    },
    {
      "cell_type": "code",
      "execution_count": 427,
      "id": "35f08271",
      "metadata": {
        "id": "35f08271"
      },
      "outputs": [],
      "source": [
        "# package for working with tabular data\n",
        "import pandas as pd \n",
        "import numpy as np\n",
        "\n",
        "# Package for charting\n",
        "import matplotlib.pyplot as plt\n",
        "import seaborn as sns #charts\n",
        "\n",
        "# package for timing runtime\n",
        "import time\n",
        "\n",
        "# package for navigating the operating system\n",
        "import os"
      ]
    },
    {
      "cell_type": "markdown",
      "source": [
        "If this is running in Google Colab.... we extract the GitHub loc where the data resides...."
      ],
      "metadata": {
        "id": "sFBrITKU_6A0"
      },
      "id": "sFBrITKU_6A0"
    },
    {
      "cell_type": "code",
      "source": [
        "!git clone https://github.com/danphilps/credit_use_case"
      ],
      "metadata": {
        "colab": {
          "base_uri": "https://localhost:8080/"
        },
        "id": "CysAAt4-AdN8",
        "outputId": "d674a3f5-2aab-434c-939d-fad5f50c0334"
      },
      "id": "CysAAt4-AdN8",
      "execution_count": 428,
      "outputs": [
        {
          "output_type": "stream",
          "name": "stdout",
          "text": [
            "Cloning into 'credit_use_case'...\n",
            "remote: Enumerating objects: 48, done.\u001b[K\n",
            "remote: Counting objects: 100% (48/48), done.\u001b[K\n",
            "remote: Compressing objects: 100% (44/44), done.\u001b[K\n",
            "remote: Total 48 (delta 17), reused 19 (delta 3), pack-reused 0\u001b[K\n",
            "Unpacking objects: 100% (48/48), done.\n"
          ]
        }
      ]
    },
    {
      "cell_type": "code",
      "source": [
        "# We should see a \"credit_use_case\" directory....\n",
        "os.listdir()"
      ],
      "metadata": {
        "colab": {
          "base_uri": "https://localhost:8080/"
        },
        "id": "LusHe3a2BF_t",
        "outputId": "3ecf68d7-b0d2-4a9a-bc2a-6226ba1a4740"
      },
      "id": "LusHe3a2BF_t",
      "execution_count": 429,
      "outputs": [
        {
          "output_type": "execute_result",
          "data": {
            "text/plain": [
              "['README.md',\n",
              " 'M6_CreditScoring.ipynb',\n",
              " 'Ch20_AutoML.ipynb',\n",
              " '.gitattributes',\n",
              " 'ch19_Classification_ Models_and_ Evaluation_use_case.ipynb',\n",
              " 'credit_use_case',\n",
              " '.git',\n",
              " 'credit-g.csv']"
            ]
          },
          "metadata": {},
          "execution_count": 429
        }
      ]
    },
    {
      "cell_type": "code",
      "source": [
        "os.chdir('credit_use_case')"
      ],
      "metadata": {
        "id": "hhMDMb1xB0yk"
      },
      "id": "hhMDMb1xB0yk",
      "execution_count": 430,
      "outputs": []
    },
    {
      "cell_type": "code",
      "execution_count": 431,
      "id": "c26b1a44",
      "metadata": {
        "colab": {
          "base_uri": "https://localhost:8080/"
        },
        "id": "c26b1a44",
        "outputId": "ad522716-b0e8-41c6-c6b7-dfe6f000f5d7"
      },
      "outputs": [
        {
          "output_type": "stream",
          "name": "stdout",
          "text": [
            "It took 0.016061782836914062 seconds to load the .xlsx file.\n"
          ]
        }
      ],
      "source": [
        "loc = \"credit-g.csv\"\n",
        "start_time = time.time()\n",
        "df_raw = pd.read_csv(loc)\n",
        "print(\"It took %s seconds to load the .xlsx file.\" % (time.time() - start_time))"
      ]
    },
    {
      "cell_type": "markdown",
      "source": [
        "## Bias Alert: Protected and Priviledged Groups...\n",
        "\n",
        "Loan approval is a high risk application. We need to go very carefully as a result. We need to identify any protected characteristics (ie it would be illegal to differentiate based on these) present in the dataset. \n",
        "Our use-case is a loan approval use case, ethnicity and gender are protected charcteristics where biases would be illegal. We clearly need to remove these features.\n",
        "It is also possible to identify priviledged groups and remove biases based on these characterictics. \n"
      ],
      "metadata": {
        "id": "qV1jmvnXDdEl"
      },
      "id": "qV1jmvnXDdEl"
    },
    {
      "cell_type": "code",
      "source": [
        "df_raw.columns"
      ],
      "metadata": {
        "colab": {
          "base_uri": "https://localhost:8080/"
        },
        "id": "pwvlymBMFqsW",
        "outputId": "cc88fbce-749c-44e1-d8b9-1f3b9053b3c6"
      },
      "id": "pwvlymBMFqsW",
      "execution_count": 432,
      "outputs": [
        {
          "output_type": "execute_result",
          "data": {
            "text/plain": [
              "Index(['checking_status', 'duration', 'credit_history', 'purpose',\n",
              "       'credit_amount', 'savings_status', 'employment',\n",
              "       'installment_commitment', 'personal_status', 'other_parties',\n",
              "       'residence_since', 'property_magnitude', 'age', 'other_payment_plans',\n",
              "       'housing', 'existing_credits', 'job', 'num_dependents', 'own_telephone',\n",
              "       'foreign_worker', 'class'],\n",
              "      dtype='object')"
            ]
          },
          "metadata": {},
          "execution_count": 432
        }
      ]
    },
    {
      "cell_type": "code",
      "source": [
        "# Protected data items - 'personal_status' has a \"sex\" classifier - REMOVE!\n",
        "df = df_raw.drop(columns=['personal_status'])\n",
        "\n",
        "# Priviledged dataitems - remove all ages < 25\n",
        "df['age'] = df_raw['age'][lambda x: x >= 25]\n"
      ],
      "metadata": {
        "id": "0n2YS32BDd6N"
      },
      "id": "0n2YS32BDd6N",
      "execution_count": 433,
      "outputs": []
    },
    {
      "cell_type": "code",
      "source": [
        "# Check for biases on protected characteristics...\n",
        "df_female = df_raw[(df_raw['personal_status'].str.contains('female') != 0)]\n",
        "df_male = df_raw[(df_raw['personal_status'].str.contains('female') == 0)]\n",
        "\n",
        "# % of females \n",
        "female_good_credits = df_female[(df_female['class'] == 'good')].shape[0]\n",
        "female_good_credits_pct = female_good_credits / df_female.shape[0]\n",
        "#\n",
        "male_good_credits = df_male[(df_male['class'] == 'good')].shape[0] \n",
        "male_good_credits_pct = male_good_credits / df_male.shape[0]\n",
        "\n",
        "#  Difference in good credits for females and males...\n",
        "print('Female good credits: ' + str(format(round(female_good_credits_pct*100, 2))) + '%')\n",
        "print('Male good credits: ' + str(format(round(male_good_credits_pct*100, 2))) + '%')\n"
      ],
      "metadata": {
        "colab": {
          "base_uri": "https://localhost:8080/"
        },
        "id": "NQaeBvyxMddk",
        "outputId": "70446b6b-f572-476d-ea7e-c9f19dd3b755"
      },
      "id": "NQaeBvyxMddk",
      "execution_count": 434,
      "outputs": [
        {
          "output_type": "stream",
          "name": "stdout",
          "text": [
            "Female good credits: 64.84%\n",
            "Male good credits: 72.32%\n"
          ]
        }
      ]
    },
    {
      "cell_type": "markdown",
      "source": [
        "There is clearly a bias in the dataset, but to expand upon this we can use a Chi2 test to examine whether the observed \"bad\" credits we see in female rows, is statistically significant to the expected difference we see in male rows.\n",
        "\n",
        "It is possible that this bias is proxied by another data item in the dataset. **We will come back to this issue later**."
      ],
      "metadata": {
        "id": "cB4L-E2-Te1u"
      },
      "id": "cB4L-E2-Te1u"
    },
    {
      "cell_type": "code",
      "source": [
        "from scipy.stats import chi2_contingency\n",
        "\n",
        "# Generate  confusion matrix that to examine this bias...\n",
        "df_raw['gender'] = np.where(df_raw['personal_status'].str.contains('female') == 0, 'female', 'male')\n",
        "conf_matrix= pd.crosstab(df_raw['gender'], df_raw['class']) \n",
        "\n",
        "print('Male/Female Good/Bad Credits Confusion Matrix \\n' + str(conf_matrix))\n",
        "\n",
        "# Chi-square test of independence. \n",
        "c, p, dof, expected = chi2_contingency(conf_matrix) \n",
        "# Print the p-value\n",
        "print('\\n Chi-square test of independence')\n",
        "print('p-val of Chi2 test: ' + str(round(p, 4)))"
      ],
      "metadata": {
        "colab": {
          "base_uri": "https://localhost:8080/"
        },
        "id": "nPksuW6KKdhV",
        "outputId": "61e7ee87-bc37-4995-974e-da0dbc2fde7b"
      },
      "id": "nPksuW6KKdhV",
      "execution_count": 435,
      "outputs": [
        {
          "output_type": "stream",
          "name": "stdout",
          "text": [
            "Male/Female Good/Bad Credits Confusion Matrix \n",
            "class   bad  good\n",
            "gender           \n",
            "female  191   499\n",
            "male    109   201\n",
            "\n",
            " Chi-square test of independence\n",
            "p-val of Chi2 test: 0.0207\n"
          ]
        }
      ]
    },
    {
      "cell_type": "markdown",
      "source": [
        "# Data Wrangling and Preprocessing"
      ],
      "metadata": {
        "id": "BrwhvERWDe_N"
      },
      "id": "BrwhvERWDe_N"
    },
    {
      "cell_type": "markdown",
      "id": "bdd49632",
      "metadata": {
        "id": "bdd49632"
      },
      "source": [
        "Data Wrangling: As we have shown in previous chapters we need to convert categorical data into one-hot-encodings, clean characters from numeric data columns, carry out type conversions into numeric datatypes... The following cell shows the appropriate data wrangling to get our data into a good shape. "
      ]
    },
    {
      "cell_type": "code",
      "execution_count": 436,
      "id": "c62115a2",
      "metadata": {
        "scrolled": true,
        "colab": {
          "base_uri": "https://localhost:8080/",
          "height": 522
        },
        "id": "c62115a2",
        "outputId": "387bb0a4-e5ab-4ef8-cbef-9969decda5e8"
      },
      "outputs": [
        {
          "output_type": "execute_result",
          "data": {
            "text/plain": [
              "     duration  credit_amount  installment_commitment  residence_since  age  \\\n",
              "0           6           1169                       4                4   67   \n",
              "1          48           5951                       2                2    0   \n",
              "2          12           2096                       2                3   49   \n",
              "3          42           7882                       2                4   45   \n",
              "4          24           4870                       3                4   53   \n",
              "..        ...            ...                     ...              ...  ...   \n",
              "995        12           1736                       3                4   31   \n",
              "996        30           3857                       4                4   40   \n",
              "997        12            804                       4                4   38   \n",
              "998        45           1845                       4                4    0   \n",
              "999        45           4576                       3                4   27   \n",
              "\n",
              "     existing_credits  num_dependents  foreign_worker  class  \\\n",
              "0                   2               1               1      0   \n",
              "1                   1               1               1      1   \n",
              "2                   1               2               1      0   \n",
              "3                   1               2               1      0   \n",
              "4                   2               2               1      1   \n",
              "..                ...             ...             ...    ...   \n",
              "995                 1               1               1      0   \n",
              "996                 1               1               1      0   \n",
              "997                 1               1               1      0   \n",
              "998                 1               1               1      1   \n",
              "999                 1               1               1      0   \n",
              "\n",
              "     checking_status_0<=X<200  ...  other_payment_plans_stores  \\\n",
              "0                           0  ...                           0   \n",
              "1                           1  ...                           0   \n",
              "2                           0  ...                           0   \n",
              "3                           0  ...                           0   \n",
              "4                           0  ...                           0   \n",
              "..                        ...  ...                         ...   \n",
              "995                         0  ...                           0   \n",
              "996                         0  ...                           0   \n",
              "997                         0  ...                           0   \n",
              "998                         0  ...                           0   \n",
              "999                         1  ...                           0   \n",
              "\n",
              "     housing_for free  housing_own  housing_rent  \\\n",
              "0                   0            1             0   \n",
              "1                   0            1             0   \n",
              "2                   0            1             0   \n",
              "3                   1            0             0   \n",
              "4                   1            0             0   \n",
              "..                ...          ...           ...   \n",
              "995                 0            1             0   \n",
              "996                 0            1             0   \n",
              "997                 0            1             0   \n",
              "998                 1            0             0   \n",
              "999                 0            1             0   \n",
              "\n",
              "     job_high qualif/self emp/mgmt  job_skilled  job_unemp/unskilled non res  \\\n",
              "0                                0            1                            0   \n",
              "1                                0            1                            0   \n",
              "2                                0            0                            0   \n",
              "3                                0            1                            0   \n",
              "4                                0            1                            0   \n",
              "..                             ...          ...                          ...   \n",
              "995                              0            0                            0   \n",
              "996                              1            0                            0   \n",
              "997                              0            1                            0   \n",
              "998                              0            1                            0   \n",
              "999                              0            1                            0   \n",
              "\n",
              "     job_unskilled resident  own_telephone_none  own_telephone_yes  \n",
              "0                         0                   0                  1  \n",
              "1                         0                   1                  0  \n",
              "2                         1                   1                  0  \n",
              "3                         0                   1                  0  \n",
              "4                         0                   1                  0  \n",
              "..                      ...                 ...                ...  \n",
              "995                       1                   1                  0  \n",
              "996                       0                   0                  1  \n",
              "997                       0                   1                  0  \n",
              "998                       0                   0                  1  \n",
              "999                       0                   1                  0  \n",
              "\n",
              "[1000 rows x 57 columns]"
            ],
            "text/html": [
              "\n",
              "  <div id=\"df-7f183eb9-9af1-4a9d-8a1d-8ee4963c0d28\">\n",
              "    <div class=\"colab-df-container\">\n",
              "      <div>\n",
              "<style scoped>\n",
              "    .dataframe tbody tr th:only-of-type {\n",
              "        vertical-align: middle;\n",
              "    }\n",
              "\n",
              "    .dataframe tbody tr th {\n",
              "        vertical-align: top;\n",
              "    }\n",
              "\n",
              "    .dataframe thead th {\n",
              "        text-align: right;\n",
              "    }\n",
              "</style>\n",
              "<table border=\"1\" class=\"dataframe\">\n",
              "  <thead>\n",
              "    <tr style=\"text-align: right;\">\n",
              "      <th></th>\n",
              "      <th>duration</th>\n",
              "      <th>credit_amount</th>\n",
              "      <th>installment_commitment</th>\n",
              "      <th>residence_since</th>\n",
              "      <th>age</th>\n",
              "      <th>existing_credits</th>\n",
              "      <th>num_dependents</th>\n",
              "      <th>foreign_worker</th>\n",
              "      <th>class</th>\n",
              "      <th>checking_status_0&lt;=X&lt;200</th>\n",
              "      <th>...</th>\n",
              "      <th>other_payment_plans_stores</th>\n",
              "      <th>housing_for free</th>\n",
              "      <th>housing_own</th>\n",
              "      <th>housing_rent</th>\n",
              "      <th>job_high qualif/self emp/mgmt</th>\n",
              "      <th>job_skilled</th>\n",
              "      <th>job_unemp/unskilled non res</th>\n",
              "      <th>job_unskilled resident</th>\n",
              "      <th>own_telephone_none</th>\n",
              "      <th>own_telephone_yes</th>\n",
              "    </tr>\n",
              "  </thead>\n",
              "  <tbody>\n",
              "    <tr>\n",
              "      <th>0</th>\n",
              "      <td>6</td>\n",
              "      <td>1169</td>\n",
              "      <td>4</td>\n",
              "      <td>4</td>\n",
              "      <td>67</td>\n",
              "      <td>2</td>\n",
              "      <td>1</td>\n",
              "      <td>1</td>\n",
              "      <td>0</td>\n",
              "      <td>0</td>\n",
              "      <td>...</td>\n",
              "      <td>0</td>\n",
              "      <td>0</td>\n",
              "      <td>1</td>\n",
              "      <td>0</td>\n",
              "      <td>0</td>\n",
              "      <td>1</td>\n",
              "      <td>0</td>\n",
              "      <td>0</td>\n",
              "      <td>0</td>\n",
              "      <td>1</td>\n",
              "    </tr>\n",
              "    <tr>\n",
              "      <th>1</th>\n",
              "      <td>48</td>\n",
              "      <td>5951</td>\n",
              "      <td>2</td>\n",
              "      <td>2</td>\n",
              "      <td>0</td>\n",
              "      <td>1</td>\n",
              "      <td>1</td>\n",
              "      <td>1</td>\n",
              "      <td>1</td>\n",
              "      <td>1</td>\n",
              "      <td>...</td>\n",
              "      <td>0</td>\n",
              "      <td>0</td>\n",
              "      <td>1</td>\n",
              "      <td>0</td>\n",
              "      <td>0</td>\n",
              "      <td>1</td>\n",
              "      <td>0</td>\n",
              "      <td>0</td>\n",
              "      <td>1</td>\n",
              "      <td>0</td>\n",
              "    </tr>\n",
              "    <tr>\n",
              "      <th>2</th>\n",
              "      <td>12</td>\n",
              "      <td>2096</td>\n",
              "      <td>2</td>\n",
              "      <td>3</td>\n",
              "      <td>49</td>\n",
              "      <td>1</td>\n",
              "      <td>2</td>\n",
              "      <td>1</td>\n",
              "      <td>0</td>\n",
              "      <td>0</td>\n",
              "      <td>...</td>\n",
              "      <td>0</td>\n",
              "      <td>0</td>\n",
              "      <td>1</td>\n",
              "      <td>0</td>\n",
              "      <td>0</td>\n",
              "      <td>0</td>\n",
              "      <td>0</td>\n",
              "      <td>1</td>\n",
              "      <td>1</td>\n",
              "      <td>0</td>\n",
              "    </tr>\n",
              "    <tr>\n",
              "      <th>3</th>\n",
              "      <td>42</td>\n",
              "      <td>7882</td>\n",
              "      <td>2</td>\n",
              "      <td>4</td>\n",
              "      <td>45</td>\n",
              "      <td>1</td>\n",
              "      <td>2</td>\n",
              "      <td>1</td>\n",
              "      <td>0</td>\n",
              "      <td>0</td>\n",
              "      <td>...</td>\n",
              "      <td>0</td>\n",
              "      <td>1</td>\n",
              "      <td>0</td>\n",
              "      <td>0</td>\n",
              "      <td>0</td>\n",
              "      <td>1</td>\n",
              "      <td>0</td>\n",
              "      <td>0</td>\n",
              "      <td>1</td>\n",
              "      <td>0</td>\n",
              "    </tr>\n",
              "    <tr>\n",
              "      <th>4</th>\n",
              "      <td>24</td>\n",
              "      <td>4870</td>\n",
              "      <td>3</td>\n",
              "      <td>4</td>\n",
              "      <td>53</td>\n",
              "      <td>2</td>\n",
              "      <td>2</td>\n",
              "      <td>1</td>\n",
              "      <td>1</td>\n",
              "      <td>0</td>\n",
              "      <td>...</td>\n",
              "      <td>0</td>\n",
              "      <td>1</td>\n",
              "      <td>0</td>\n",
              "      <td>0</td>\n",
              "      <td>0</td>\n",
              "      <td>1</td>\n",
              "      <td>0</td>\n",
              "      <td>0</td>\n",
              "      <td>1</td>\n",
              "      <td>0</td>\n",
              "    </tr>\n",
              "    <tr>\n",
              "      <th>...</th>\n",
              "      <td>...</td>\n",
              "      <td>...</td>\n",
              "      <td>...</td>\n",
              "      <td>...</td>\n",
              "      <td>...</td>\n",
              "      <td>...</td>\n",
              "      <td>...</td>\n",
              "      <td>...</td>\n",
              "      <td>...</td>\n",
              "      <td>...</td>\n",
              "      <td>...</td>\n",
              "      <td>...</td>\n",
              "      <td>...</td>\n",
              "      <td>...</td>\n",
              "      <td>...</td>\n",
              "      <td>...</td>\n",
              "      <td>...</td>\n",
              "      <td>...</td>\n",
              "      <td>...</td>\n",
              "      <td>...</td>\n",
              "      <td>...</td>\n",
              "    </tr>\n",
              "    <tr>\n",
              "      <th>995</th>\n",
              "      <td>12</td>\n",
              "      <td>1736</td>\n",
              "      <td>3</td>\n",
              "      <td>4</td>\n",
              "      <td>31</td>\n",
              "      <td>1</td>\n",
              "      <td>1</td>\n",
              "      <td>1</td>\n",
              "      <td>0</td>\n",
              "      <td>0</td>\n",
              "      <td>...</td>\n",
              "      <td>0</td>\n",
              "      <td>0</td>\n",
              "      <td>1</td>\n",
              "      <td>0</td>\n",
              "      <td>0</td>\n",
              "      <td>0</td>\n",
              "      <td>0</td>\n",
              "      <td>1</td>\n",
              "      <td>1</td>\n",
              "      <td>0</td>\n",
              "    </tr>\n",
              "    <tr>\n",
              "      <th>996</th>\n",
              "      <td>30</td>\n",
              "      <td>3857</td>\n",
              "      <td>4</td>\n",
              "      <td>4</td>\n",
              "      <td>40</td>\n",
              "      <td>1</td>\n",
              "      <td>1</td>\n",
              "      <td>1</td>\n",
              "      <td>0</td>\n",
              "      <td>0</td>\n",
              "      <td>...</td>\n",
              "      <td>0</td>\n",
              "      <td>0</td>\n",
              "      <td>1</td>\n",
              "      <td>0</td>\n",
              "      <td>1</td>\n",
              "      <td>0</td>\n",
              "      <td>0</td>\n",
              "      <td>0</td>\n",
              "      <td>0</td>\n",
              "      <td>1</td>\n",
              "    </tr>\n",
              "    <tr>\n",
              "      <th>997</th>\n",
              "      <td>12</td>\n",
              "      <td>804</td>\n",
              "      <td>4</td>\n",
              "      <td>4</td>\n",
              "      <td>38</td>\n",
              "      <td>1</td>\n",
              "      <td>1</td>\n",
              "      <td>1</td>\n",
              "      <td>0</td>\n",
              "      <td>0</td>\n",
              "      <td>...</td>\n",
              "      <td>0</td>\n",
              "      <td>0</td>\n",
              "      <td>1</td>\n",
              "      <td>0</td>\n",
              "      <td>0</td>\n",
              "      <td>1</td>\n",
              "      <td>0</td>\n",
              "      <td>0</td>\n",
              "      <td>1</td>\n",
              "      <td>0</td>\n",
              "    </tr>\n",
              "    <tr>\n",
              "      <th>998</th>\n",
              "      <td>45</td>\n",
              "      <td>1845</td>\n",
              "      <td>4</td>\n",
              "      <td>4</td>\n",
              "      <td>0</td>\n",
              "      <td>1</td>\n",
              "      <td>1</td>\n",
              "      <td>1</td>\n",
              "      <td>1</td>\n",
              "      <td>0</td>\n",
              "      <td>...</td>\n",
              "      <td>0</td>\n",
              "      <td>1</td>\n",
              "      <td>0</td>\n",
              "      <td>0</td>\n",
              "      <td>0</td>\n",
              "      <td>1</td>\n",
              "      <td>0</td>\n",
              "      <td>0</td>\n",
              "      <td>0</td>\n",
              "      <td>1</td>\n",
              "    </tr>\n",
              "    <tr>\n",
              "      <th>999</th>\n",
              "      <td>45</td>\n",
              "      <td>4576</td>\n",
              "      <td>3</td>\n",
              "      <td>4</td>\n",
              "      <td>27</td>\n",
              "      <td>1</td>\n",
              "      <td>1</td>\n",
              "      <td>1</td>\n",
              "      <td>0</td>\n",
              "      <td>1</td>\n",
              "      <td>...</td>\n",
              "      <td>0</td>\n",
              "      <td>0</td>\n",
              "      <td>1</td>\n",
              "      <td>0</td>\n",
              "      <td>0</td>\n",
              "      <td>1</td>\n",
              "      <td>0</td>\n",
              "      <td>0</td>\n",
              "      <td>1</td>\n",
              "      <td>0</td>\n",
              "    </tr>\n",
              "  </tbody>\n",
              "</table>\n",
              "<p>1000 rows × 57 columns</p>\n",
              "</div>\n",
              "      <button class=\"colab-df-convert\" onclick=\"convertToInteractive('df-7f183eb9-9af1-4a9d-8a1d-8ee4963c0d28')\"\n",
              "              title=\"Convert this dataframe to an interactive table.\"\n",
              "              style=\"display:none;\">\n",
              "        \n",
              "  <svg xmlns=\"http://www.w3.org/2000/svg\" height=\"24px\"viewBox=\"0 0 24 24\"\n",
              "       width=\"24px\">\n",
              "    <path d=\"M0 0h24v24H0V0z\" fill=\"none\"/>\n",
              "    <path d=\"M18.56 5.44l.94 2.06.94-2.06 2.06-.94-2.06-.94-.94-2.06-.94 2.06-2.06.94zm-11 1L8.5 8.5l.94-2.06 2.06-.94-2.06-.94L8.5 2.5l-.94 2.06-2.06.94zm10 10l.94 2.06.94-2.06 2.06-.94-2.06-.94-.94-2.06-.94 2.06-2.06.94z\"/><path d=\"M17.41 7.96l-1.37-1.37c-.4-.4-.92-.59-1.43-.59-.52 0-1.04.2-1.43.59L10.3 9.45l-7.72 7.72c-.78.78-.78 2.05 0 2.83L4 21.41c.39.39.9.59 1.41.59.51 0 1.02-.2 1.41-.59l7.78-7.78 2.81-2.81c.8-.78.8-2.07 0-2.86zM5.41 20L4 18.59l7.72-7.72 1.47 1.35L5.41 20z\"/>\n",
              "  </svg>\n",
              "      </button>\n",
              "      \n",
              "  <style>\n",
              "    .colab-df-container {\n",
              "      display:flex;\n",
              "      flex-wrap:wrap;\n",
              "      gap: 12px;\n",
              "    }\n",
              "\n",
              "    .colab-df-convert {\n",
              "      background-color: #E8F0FE;\n",
              "      border: none;\n",
              "      border-radius: 50%;\n",
              "      cursor: pointer;\n",
              "      display: none;\n",
              "      fill: #1967D2;\n",
              "      height: 32px;\n",
              "      padding: 0 0 0 0;\n",
              "      width: 32px;\n",
              "    }\n",
              "\n",
              "    .colab-df-convert:hover {\n",
              "      background-color: #E2EBFA;\n",
              "      box-shadow: 0px 1px 2px rgba(60, 64, 67, 0.3), 0px 1px 3px 1px rgba(60, 64, 67, 0.15);\n",
              "      fill: #174EA6;\n",
              "    }\n",
              "\n",
              "    [theme=dark] .colab-df-convert {\n",
              "      background-color: #3B4455;\n",
              "      fill: #D2E3FC;\n",
              "    }\n",
              "\n",
              "    [theme=dark] .colab-df-convert:hover {\n",
              "      background-color: #434B5C;\n",
              "      box-shadow: 0px 1px 3px 1px rgba(0, 0, 0, 0.15);\n",
              "      filter: drop-shadow(0px 1px 2px rgba(0, 0, 0, 0.3));\n",
              "      fill: #FFFFFF;\n",
              "    }\n",
              "  </style>\n",
              "\n",
              "      <script>\n",
              "        const buttonEl =\n",
              "          document.querySelector('#df-7f183eb9-9af1-4a9d-8a1d-8ee4963c0d28 button.colab-df-convert');\n",
              "        buttonEl.style.display =\n",
              "          google.colab.kernel.accessAllowed ? 'block' : 'none';\n",
              "\n",
              "        async function convertToInteractive(key) {\n",
              "          const element = document.querySelector('#df-7f183eb9-9af1-4a9d-8a1d-8ee4963c0d28');\n",
              "          const dataTable =\n",
              "            await google.colab.kernel.invokeFunction('convertToInteractive',\n",
              "                                                     [key], {});\n",
              "          if (!dataTable) return;\n",
              "\n",
              "          const docLinkHtml = 'Like what you see? Visit the ' +\n",
              "            '<a target=\"_blank\" href=https://colab.research.google.com/notebooks/data_table.ipynb>data table notebook</a>'\n",
              "            + ' to learn more about interactive tables.';\n",
              "          element.innerHTML = '';\n",
              "          dataTable['output_type'] = 'display_data';\n",
              "          await google.colab.output.renderOutput(dataTable, element);\n",
              "          const docLink = document.createElement('div');\n",
              "          docLink.innerHTML = docLinkHtml;\n",
              "          element.appendChild(docLink);\n",
              "        }\n",
              "      </script>\n",
              "    </div>\n",
              "  </div>\n",
              "  "
            ]
          },
          "metadata": {},
          "execution_count": 436
        }
      ],
      "source": [
        "# list categorical columns...\n",
        "cat_cols =['checking_status', 'purpose', 'credit_history', 'savings_status', 'employment', 'other_parties', 'property_magnitude', 'other_payment_plans','housing','job','own_telephone']\n",
        "\n",
        "# One hot encoding of catagorical variables...\n",
        "df[cat_cols].astype(\"category\")\n",
        "one_hot_encodings = pd.get_dummies(df[cat_cols])\n",
        "\n",
        "#Combine dfs\n",
        "df = pd.concat([df, one_hot_encodings], axis=1)\n",
        "\n",
        "#remove categorical columns...\n",
        "df = df.drop(columns=cat_cols)\n",
        "\n",
        "#Data wrangling..... get types and bad values sorted out\n",
        "\n",
        "# Remove characters in numeric columns (note that the data type was set, by the open_csv function to object, \n",
        "# so we first convert to string before running the replace function (which can only be fun on str types)\n",
        "df['foreign_worker'] = df['foreign_worker'].str.replace('yes', '1')\n",
        "df['foreign_worker'] = df['foreign_worker'].str.replace('no', '0')\n",
        "df['class'] = df['class'].str.replace('good', '0')\n",
        "df['class'] = df['class'].str.replace('bad', '1')\n",
        "\n",
        "# Convert to numerics so we can use in ML... we force type conversions, then print our resulting df.\n",
        "df['foreign_worker'] = pd.to_numeric(df['foreign_worker'], errors ='coerce').fillna(0).astype('int')\n",
        "df['class'] = pd.to_numeric(df['class'], errors ='coerce').fillna(0).astype('int')\n",
        "df['duration'] = pd.to_numeric(df['duration'], errors ='coerce').fillna(0).astype('int')\n",
        "df['installment_commitment'] = pd.to_numeric(df['installment_commitment'], errors ='coerce').fillna(0).astype('int')\n",
        "df['residence_since'] = pd.to_numeric(df['residence_since'], errors ='coerce').fillna(0).astype('int')\n",
        "df['age'] = pd.to_numeric(df['age'], errors ='coerce').fillna(0).astype('int')\n",
        "df['num_dependents'] = pd.to_numeric(df['num_dependents'], errors ='coerce').fillna(0).astype('int')\n",
        "\n",
        "df"
      ]
    },
    {
      "cell_type": "markdown",
      "source": [],
      "metadata": {
        "id": "jCs33N2k8iVd"
      },
      "id": "jCs33N2k8iVd"
    },
    {
      "cell_type": "code",
      "source": [
        "df.columns"
      ],
      "metadata": {
        "colab": {
          "base_uri": "https://localhost:8080/"
        },
        "id": "wljCC_8z_jL2",
        "outputId": "7e2cc8ad-c9f7-427a-c3b2-b20ce61ad17b"
      },
      "id": "wljCC_8z_jL2",
      "execution_count": 437,
      "outputs": [
        {
          "output_type": "execute_result",
          "data": {
            "text/plain": [
              "Index(['duration', 'credit_amount', 'installment_commitment',\n",
              "       'residence_since', 'age', 'existing_credits', 'num_dependents',\n",
              "       'foreign_worker', 'class', 'checking_status_0<=X<200',\n",
              "       'checking_status_<0', 'checking_status_>=200',\n",
              "       'checking_status_no checking', 'purpose_business',\n",
              "       'purpose_domestic appliance', 'purpose_education',\n",
              "       'purpose_furniture/equipment', 'purpose_new car', 'purpose_other',\n",
              "       'purpose_radio/tv', 'purpose_repairs', 'purpose_retraining',\n",
              "       'purpose_used car', 'credit_history_all paid',\n",
              "       'credit_history_critical/other existing credit',\n",
              "       'credit_history_delayed previously', 'credit_history_existing paid',\n",
              "       'credit_history_no credits/all paid', 'savings_status_100<=X<500',\n",
              "       'savings_status_500<=X<1000', 'savings_status_<100',\n",
              "       'savings_status_>=1000', 'savings_status_no known savings',\n",
              "       'employment_1<=X<4', 'employment_4<=X<7', 'employment_<1',\n",
              "       'employment_>=7', 'employment_unemployed', 'other_parties_co applicant',\n",
              "       'other_parties_guarantor', 'other_parties_none',\n",
              "       'property_magnitude_car', 'property_magnitude_life insurance',\n",
              "       'property_magnitude_no known property',\n",
              "       'property_magnitude_real estate', 'other_payment_plans_bank',\n",
              "       'other_payment_plans_none', 'other_payment_plans_stores',\n",
              "       'housing_for free', 'housing_own', 'housing_rent',\n",
              "       'job_high qualif/self emp/mgmt', 'job_skilled',\n",
              "       'job_unemp/unskilled non res', 'job_unskilled resident',\n",
              "       'own_telephone_none', 'own_telephone_yes'],\n",
              "      dtype='object')"
            ]
          },
          "metadata": {},
          "execution_count": 437
        }
      ]
    },
    {
      "cell_type": "markdown",
      "id": "1fd02130",
      "metadata": {
        "id": "1fd02130"
      },
      "source": [
        "## Bias Alert: Imbalanced dataset\n",
        "\n",
        "Imbalances in datasets for classification problems are a big issue. We generally need to balance the dataset to contain an equal proportion of the different classes before training (and testing). For the credit use-case, we have two classes {1,0}, meaning that ideally 50% of our samples should be class=1; and 50% class=0. If this is not the case and we have an imbalance (we do), we can balance the data by up-sampling the minority class, or down-sampling the majority class.\n",
        "Let us first examine the dataset to determine whether it is in balance."
      ]
    },
    {
      "cell_type": "code",
      "execution_count": 438,
      "id": "9d772e1c",
      "metadata": {
        "colab": {
          "base_uri": "https://localhost:8080/",
          "height": 317
        },
        "id": "9d772e1c",
        "outputId": "09ccf301-cbd6-4a95-8d66-3c2e8ec3bbcb"
      },
      "outputs": [
        {
          "output_type": "stream",
          "name": "stdout",
          "text": [
            "Imbalanced dataset....\n",
            "0    700\n",
            "1    300\n",
            "Name: class, dtype: int64\n"
          ]
        },
        {
          "output_type": "display_data",
          "data": {
            "text/plain": [
              "<Figure size 432x288 with 1 Axes>"
            ],
            "image/png": "[encoded data removed]"
          },
          "metadata": {}
        }
      ],
      "source": [
        "\n",
        "#Pie chart of imbalances wrapped as a func as we will use it a few times..\n",
        "def pie_of_imbalance(df: pd.DataFrame, class_col: str = 'class'):\n",
        "    print('Imbalanced dataset....')\n",
        "    print(df[class_col].value_counts())\n",
        "    df.groupby(class_col).size().plot(kind='pie', y = 'class', label = \"Type\",  autopct='%1.1f%%')\n",
        "    \n",
        "#run func\n",
        "pie_of_imbalance(df)"
      ]
    },
    {
      "cell_type": "markdown",
      "id": "e0459bd5",
      "metadata": {
        "id": "e0459bd5"
      },
      "source": [
        "The dataset is not balanced. 70% of samples are class=0; only 30% are class=1. We should bring this into balance before we train our model, or risk introducing dangerous biases into our forecasts."
      ]
    },
    {
      "cell_type": "markdown",
      "id": "e286323c",
      "metadata": {
        "id": "e286323c"
      },
      "source": [
        "### NB: Separate training and testing datasets BEFORE balancing the dataset\n",
        "\n",
        "Before we start up or down-sampling to correct the imbalance, we first we need to create our testing and training datasets. We can then balance the training set. This is to keep the training-set in-sample and the testing-set strictly out-of-sample. This is crucial as our learner must not see any of the test samples until we actually test it for performance. If we fail to separate testing and training data before up samplng, we can suffer data-snooping biases (also called data-leakage), which would invalidate our model."
      ]
    },
    {
      "cell_type": "code",
      "source": [
        "from sklearn.model_selection import train_test_split"
      ],
      "metadata": {
        "id": "eTjDqiD5f_j1"
      },
      "id": "eTjDqiD5f_j1",
      "execution_count": 439,
      "outputs": []
    },
    {
      "cell_type": "code",
      "execution_count": 440,
      "id": "f9517124",
      "metadata": {
        "id": "f9517124"
      },
      "outputs": [],
      "source": [
        "# Define X and y variables\n",
        "cols  = list(df.columns)\n",
        "cols.remove('class')\n",
        "\n",
        "# Contains only numerics\n",
        "X = df[cols]\n",
        "y = df['class']\n",
        "\n",
        "#Test and train set    \n",
        "X_train, X_test, y_train, y_test = train_test_split(X, y, test_size=0.3, random_state=None)"
      ]
    },
    {
      "cell_type": "markdown",
      "id": "d3f79ba0",
      "metadata": {
        "id": "d3f79ba0"
      },
      "source": [
        "### RandomForest Classifier\n",
        "We will use the RandomForest classifier to help us test different up and down sampling approaches to deal with the imbalanced dataset. We will be able to see the relative performance of each balancing approach on our problem.\n",
        "\n",
        "First let us run the classifier on the imbalanced data and examine the F1 score that results when we test the model. (It is a very poor result)."
      ]
    },
    {
      "cell_type": "markdown",
      "id": "c02db5bb",
      "metadata": {
        "id": "c02db5bb"
      },
      "source": [
        "Get the sklearn packages we will need for our clasification problem"
      ]
    },
    {
      "cell_type": "code",
      "execution_count": 441,
      "id": "af12e96b",
      "metadata": {
        "id": "af12e96b"
      },
      "outputs": [],
      "source": [
        "import numpy as np\n",
        "\n",
        "from sklearn.preprocessing import StandardScaler\n",
        "\n",
        "# CLassifiers\n",
        "from sklearn.ensemble import RandomForestClassifier\n",
        "\n",
        "\n",
        "# metrics...\n",
        "from sklearn.metrics import f1_score\n",
        "from sklearn.metrics import precision_score\n",
        "from sklearn.metrics import recall_score\n",
        "from sklearn.metrics import confusion_matrix"
      ]
    },
    {
      "cell_type": "markdown",
      "id": "c7484849",
      "metadata": {
        "id": "c7484849"
      },
      "source": [
        "We can wrap training for the Random Forest classifier, and the printing of performance metrics in a function, as we will be running this more than once."
      ]
    },
    {
      "cell_type": "code",
      "execution_count": 442,
      "id": "c09b7144",
      "metadata": {
        "colab": {
          "base_uri": "https://localhost:8080/",
          "height": 441
        },
        "id": "c09b7144",
        "outputId": "915ea80f-dc86-4a0d-b3d0-a6af56dbac8f"
      },
      "outputs": [
        {
          "output_type": "stream",
          "name": "stdout",
          "text": [
            "<class 'sklearn.ensemble._forest.RandomForestClassifier'>\n",
            "Accuracy train: 0.8086, test:  0.7300\n",
            "Precision train: 0.7868, test:  0.7289\n",
            "Recall train: 0.9959, test:  0.9810\n",
            "F1 train: 0.5411, test:  0.2286\n"
          ]
        },
        {
          "output_type": "display_data",
          "data": {
            "text/plain": [
              "<Figure size 432x288 with 2 Axes>"
            ],
            "image/png": "[encoded data removed]"
          },
          "metadata": {
            "needs_background": "light"
          }
        },
        {
          "output_type": "execute_result",
          "data": {
            "text/plain": [
              "RandomForestClassifier(max_depth=5, random_state=0)"
            ]
          },
          "metadata": {},
          "execution_count": 442
        }
      ],
      "source": [
        "# Declare a function to wrap training of a classifier and printing of performance data\n",
        "def run_rf_classification_models(X_train: pd.DataFrame, X_test: pd.DataFrame, \n",
        "                            y_train: pd.DataFrame, y_test: pd.DataFrame) -> object:\n",
        "    \n",
        "    # Scale and transform the data for training\n",
        "    sclr = StandardScaler()\n",
        "    sclr.fit(X_train) # scale to 0 mean and std dev 1 on training data\n",
        "\n",
        "    X_train = sclr.fit_transform(X_train) # scale both sets:\n",
        "    X_test = sclr.fit_transform(X_test)\n",
        "\n",
        "    # classifier train\n",
        "    rf = RandomForestClassifier(max_depth=5,random_state=0)\n",
        "    rf.fit(X_train,y_train)\n",
        "    y_train_hat =rf.predict(X_train)\n",
        "    y_test_hat = rf.predict(X_test)\n",
        "\n",
        "    # Print score\n",
        "    print(type(rf))        \n",
        "    print(f\"Accuracy train: {rf.score(X_train,y_train):.4f}, test: \",\n",
        "      f\"{rf.score(X_test,y_test):.4f}\")\n",
        "    print(f\"Precision train: {precision_score(y_train, y_train_hat, average=None)[0]:.4f}, test: \",\n",
        "      f\"{precision_score(y_test,y_test_hat, average=None)[0]:.4f}\")\n",
        "    print(f\"Recall train: {recall_score(y_train, y_train_hat, average=None)[0]:.4f}, test: \",\n",
        "      f\"{recall_score(y_test,y_test_hat, average=None)[0]:.4f}\")\n",
        "    print(f\"F1 train: {f1_score(y_train, y_train_hat, average=None)[1]:.4f}, test: \",\n",
        "      f\"{f1_score(y_test,y_test_hat, average=None)[1]:.4f}\")\n",
        "    #print(f1_score(y_test, y_test_hat, average=None))\n",
        "\n",
        "\n",
        "    #Print confusion matrix...\n",
        "    cf_matrix = confusion_matrix(y_test, y_test_hat, labels=[0, 1]) \n",
        "    cf_matrix_norm = cf_matrix.astype('float') # / cf_matrix.sum(axis=1)[:, np.newaxis]\n",
        "\n",
        "    ax = sns.heatmap(cf_matrix_norm, annot=True, cmap='Blues', fmt='g')\n",
        "    ax.set_title('Confusion Matrix\\n\\n');\n",
        "    ax.set_xlabel('\\nPredicted Values')\n",
        "    ax.set_ylabel('Actual Values ');\n",
        "    plt.show()\n",
        "\n",
        "    return rf\n",
        "\n",
        "#run RF classifier function\n",
        "run_rf_classification_models(X_train, X_test, y_train, y_test)"
      ]
    },
    {
      "cell_type": "markdown",
      "id": "66bfe3c2",
      "metadata": {
        "id": "66bfe3c2"
      },
      "source": [
        "## Test the performance of different up, and down sampling approaches"
      ]
    },
    {
      "cell_type": "markdown",
      "id": "f8166fcf",
      "metadata": {
        "id": "f8166fcf"
      },
      "source": [
        "### 1) Upsampling using resampling"
      ]
    },
    {
      "cell_type": "markdown",
      "id": "a4ef22f5",
      "metadata": {
        "id": "a4ef22f5"
      },
      "source": [
        "First we test up-sampling using sklearn's resample, and examine how well it does using the RandomForest classifier. Resampling can up-sample by simply randomly selecting and copying existing observations of the minority class. We can balance the classes in this way."
      ]
    },
    {
      "cell_type": "code",
      "execution_count": 443,
      "id": "739e0d7d",
      "metadata": {
        "id": "739e0d7d"
      },
      "outputs": [],
      "source": [
        "from sklearn.utils import resample\n",
        "\n",
        "#Split first to avoid data-snooping\n",
        "X_train, X_test, y_train, y_test = train_test_split(X, y, test_size=0.3, random_state=None)\n",
        "\n",
        "# Create up-sampled data set for minority class\n",
        "# note that n_samples= the number of samples the imbalance represents.\n",
        "X_upsampled, y_upsampled = resample(X_train[y_train == 1],\n",
        "                                        y_train[y_train == 1],\n",
        "                                        replace=True,\n",
        "                                        n_samples=(X_train[y_train == 0].shape[0]-X_train[y_train == 1].shape[0]),\n",
        "                                        random_state=None)\n",
        "\n",
        "#Combine train with upsampled\n",
        "X_upsampled = X_train.append(X_upsampled)\n",
        "y_upsampled = y_train.append(y_upsampled)"
      ]
    },
    {
      "cell_type": "markdown",
      "id": "fc1e5726",
      "metadata": {
        "id": "fc1e5726"
      },
      "source": [
        "Let us check everything is in balance now"
      ]
    },
    {
      "cell_type": "code",
      "execution_count": 444,
      "id": "b8cb61d7",
      "metadata": {
        "colab": {
          "base_uri": "https://localhost:8080/",
          "height": 317
        },
        "id": "b8cb61d7",
        "outputId": "d21f4993-3e4d-422b-f991-12a3aee9122b"
      },
      "outputs": [
        {
          "output_type": "stream",
          "name": "stdout",
          "text": [
            "Imbalanced dataset....\n",
            "0    498\n",
            "1    498\n",
            "Name: class, dtype: int64\n"
          ]
        },
        {
          "output_type": "display_data",
          "data": {
            "text/plain": [
              "<Figure size 432x288 with 1 Axes>"
            ],
            "image/png": "[encoded data removed]"
          },
          "metadata": {}
        }
      ],
      "source": [
        "#get pie of the current imbalance\n",
        "temp = pd.concat([X_upsampled, y_upsampled], axis=1)\n",
        "pie_of_imbalance(temp)"
      ]
    },
    {
      "cell_type": "markdown",
      "id": "53dea8e1",
      "metadata": {
        "id": "53dea8e1"
      },
      "source": [
        "Dataset is perfectly in balance..."
      ]
    },
    {
      "cell_type": "code",
      "execution_count": 445,
      "id": "5caebbb0",
      "metadata": {
        "colab": {
          "base_uri": "https://localhost:8080/",
          "height": 424
        },
        "id": "5caebbb0",
        "outputId": "734477de-7fd6-4f71-f0fe-ac7e7b6935e8"
      },
      "outputs": [
        {
          "output_type": "stream",
          "name": "stdout",
          "text": [
            "<class 'sklearn.ensemble._forest.RandomForestClassifier'>\n",
            "Accuracy train: 0.8223, test:  0.7467\n",
            "Precision train: 0.8482, test:  0.8462\n",
            "Recall train: 0.7851, test:  0.7624\n",
            "F1 train: 0.8287, test:  0.6481\n"
          ]
        },
        {
          "output_type": "display_data",
          "data": {
            "text/plain": [
              "<Figure size 432x288 with 2 Axes>"
            ],
            "image/png": "[encoded data removed]"
          },
          "metadata": {
            "needs_background": "light"
          }
        }
      ],
      "source": [
        "#Run our function....\n",
        "model = run_rf_classification_models(X_upsampled, X_test, y_upsampled, y_test)"
      ]
    },
    {
      "cell_type": "markdown",
      "id": "1b4afcc1",
      "metadata": {
        "id": "1b4afcc1"
      },
      "source": [
        "The F1 score on the test data has increased markedly."
      ]
    },
    {
      "cell_type": "markdown",
      "id": "e98b384e",
      "metadata": {
        "id": "e98b384e"
      },
      "source": [
        "### 2) Up-sampling using a synthetic over sampling approach called SMOTE"
      ]
    },
    {
      "cell_type": "markdown",
      "id": "235505f6",
      "metadata": {
        "id": "235505f6"
      },
      "source": [
        "Add the libraries we will need... and generate the synthetic data to balance our classes using SMOTE."
      ]
    },
    {
      "cell_type": "code",
      "execution_count": 446,
      "id": "5dadf40d",
      "metadata": {
        "id": "5dadf40d"
      },
      "outputs": [],
      "source": [
        "from imblearn.over_sampling import SMOTE\n",
        "\n",
        "#How many samples do we need to balance?\n",
        "idx = np.random.choice(X_train.shape[0], size=X_train[y_train == 0].shape[0]-X_train[y_train == 1].shape[0], replace=False)\n",
        "\n",
        "# Generate SMOTE samples and use this to train\n",
        "upsampler_smote = SMOTE()\n",
        "X_upsampled_smote, y_upsampled_smote = upsampler_smote.fit_resample(X_train, y_train)"
      ]
    },
    {
      "cell_type": "markdown",
      "id": "4a14d264",
      "metadata": {
        "id": "4a14d264"
      },
      "source": [
        "Before we use the up-sampled dataset to train our classifier, let us first examine the distribution of the synthetic datapoints that SMOTE creates"
      ]
    },
    {
      "cell_type": "code",
      "execution_count": 447,
      "id": "4ff54d69",
      "metadata": {
        "colab": {
          "base_uri": "https://localhost:8080/",
          "height": 411
        },
        "id": "4ff54d69",
        "outputId": "971fc871-6059-4b1d-cd2f-7f03e420d972"
      },
      "outputs": [
        {
          "output_type": "display_data",
          "data": {
            "text/plain": [
              "<Figure size 720x504 with 1 Axes>"
            ],
            "image/png": "[encoded data removed]"
          },
          "metadata": {
            "needs_background": "light"
          }
        }
      ],
      "source": [
        "from matplotlib import pyplot as plt\n",
        "from mpl_toolkits.mplot3d import Axes3D\n",
        "\n",
        "\n",
        "fig = plt.figure(figsize=(10, 7)) \n",
        "ax = fig.add_subplot(111, projection='3d')\n",
        "\n",
        "ax.scatter(X_train['credit_amount'],X_train['age'], X_train['duration'], marker=\"o\", s=10, c='blue', label='Real datapoints')\n",
        "ax.scatter(X_upsampled_smote['credit_amount'],X_upsampled_smote['age'], X_upsampled_smote['duration'], marker=\"+\", s=50, c='red', label='SMOTE datapoints')\n",
        "\n",
        "# set axes range\n",
        "plt.xlim(-500, 11000)\n",
        "plt.ylim(0, 60)\n",
        "\n",
        "ax.set_xlabel('credit_amount')\n",
        "ax.set_ylabel('age')\n",
        "ax.set_zlabel('duration')\n",
        "\n",
        "plt.title('How SMOTE Samples are Distributed vs Real Data Points')\n",
        "plt.legend(loc=1,framealpha=1, fontsize=8)\n",
        "plt.show()"
      ]
    },
    {
      "cell_type": "markdown",
      "id": "a875103b",
      "metadata": {
        "id": "a875103b"
      },
      "source": [
        "The synthetic datapoints look realistic at a glance."
      ]
    },
    {
      "cell_type": "code",
      "execution_count": 448,
      "id": "c031433f",
      "metadata": {
        "colab": {
          "base_uri": "https://localhost:8080/",
          "height": 317
        },
        "id": "c031433f",
        "outputId": "c9ab35a0-28a3-423e-c4ab-a5a26880f358"
      },
      "outputs": [
        {
          "output_type": "stream",
          "name": "stdout",
          "text": [
            "Imbalanced dataset....\n",
            "0    498\n",
            "1    498\n",
            "Name: class, dtype: int64\n"
          ]
        },
        {
          "output_type": "display_data",
          "data": {
            "text/plain": [
              "<Figure size 432x288 with 1 Axes>"
            ],
            "image/png": "[encoded data removed]"
          },
          "metadata": {}
        }
      ],
      "source": [
        "#get pie of the current imbalance\n",
        "temp = pd.concat([X_upsampled_smote, y_upsampled_smote], axis=1)\n",
        "pie_of_imbalance(temp)"
      ]
    },
    {
      "cell_type": "markdown",
      "id": "89d8fdc6",
      "metadata": {
        "id": "89d8fdc6"
      },
      "source": [
        "After up-sampling using SMOTE's synthetic data, the dataset is perfectly in balance..."
      ]
    },
    {
      "cell_type": "code",
      "execution_count": 449,
      "id": "750a6983",
      "metadata": {
        "colab": {
          "base_uri": "https://localhost:8080/",
          "height": 424
        },
        "id": "750a6983",
        "outputId": "880daedc-f0d7-4df8-d636-49cb95914735"
      },
      "outputs": [
        {
          "output_type": "stream",
          "name": "stdout",
          "text": [
            "<class 'sklearn.ensemble._forest.RandomForestClassifier'>\n",
            "Accuracy train: 0.8474, test:  0.7500\n",
            "Precision train: 0.8619, test:  0.8098\n",
            "Recall train: 0.8273, test:  0.8218\n",
            "F1 train: 0.8504, test:  0.6114\n"
          ]
        },
        {
          "output_type": "display_data",
          "data": {
            "text/plain": [
              "<Figure size 432x288 with 2 Axes>"
            ],
            "image/png": "[encoded data removed]"
          },
          "metadata": {
            "needs_background": "light"
          }
        }
      ],
      "source": [
        "#Run our function....\n",
        "model = run_rf_classification_models(X_upsampled_smote, X_test, y_upsampled_smote, y_test)"
      ]
    },
    {
      "cell_type": "markdown",
      "id": "30066c4b",
      "metadata": {
        "id": "30066c4b"
      },
      "source": [
        "### 3. Down-sampling"
      ]
    },
    {
      "cell_type": "markdown",
      "id": "0a94d7e4",
      "metadata": {
        "id": "0a94d7e4"
      },
      "source": [
        "Now we can test down-sampling, which is simply removing samples from the majority class. "
      ]
    },
    {
      "cell_type": "code",
      "execution_count": 450,
      "id": "8dbc9854",
      "metadata": {
        "id": "8dbc9854"
      },
      "outputs": [],
      "source": [
        "from imblearn.under_sampling import RandomUnderSampler \n",
        "\n",
        "#Split first to avoid data-snooping\n",
        "X_train, X_test, y_train, y_test = train_test_split(X, y, test_size=0.3, random_state=None)\n",
        "\n",
        "# Randomly downsample rows in the majority class\n",
        "rus = RandomUnderSampler(random_state=42)\n",
        "X_downsampled, y_downsampled = rus.fit_resample(X_train, y_train)"
      ]
    },
    {
      "cell_type": "code",
      "execution_count": 451,
      "id": "c0beacf7",
      "metadata": {
        "colab": {
          "base_uri": "https://localhost:8080/",
          "height": 317
        },
        "id": "c0beacf7",
        "outputId": "7c9ab6ec-a8a9-4992-b2f2-d4ad8d33271d"
      },
      "outputs": [
        {
          "output_type": "stream",
          "name": "stdout",
          "text": [
            "Imbalanced dataset....\n",
            "0    212\n",
            "1    212\n",
            "Name: class, dtype: int64\n"
          ]
        },
        {
          "output_type": "display_data",
          "data": {
            "text/plain": [
              "<Figure size 432x288 with 1 Axes>"
            ],
            "image/png": "[encoded data removed]"
          },
          "metadata": {}
        }
      ],
      "source": [
        "#get pie of the current imbalance\n",
        "temp = pd.concat([X_downsampled, y_downsampled], axis=1)\n",
        "pie_of_imbalance(temp)"
      ]
    },
    {
      "cell_type": "code",
      "execution_count": 452,
      "id": "d6de0276",
      "metadata": {
        "colab": {
          "base_uri": "https://localhost:8080/",
          "height": 424
        },
        "id": "d6de0276",
        "outputId": "a0e34ff1-b015-40ea-d286-1834c4c7ca61"
      },
      "outputs": [
        {
          "output_type": "stream",
          "name": "stdout",
          "text": [
            "<class 'sklearn.ensemble._forest.RandomForestClassifier'>\n",
            "Accuracy train: 0.8467, test:  0.6800\n",
            "Precision train: 0.8889, test:  0.8766\n",
            "Recall train: 0.7925, test:  0.6368\n",
            "F1 train: 0.8546, test:  0.5897\n"
          ]
        },
        {
          "output_type": "display_data",
          "data": {
            "text/plain": [
              "<Figure size 432x288 with 2 Axes>"
            ],
            "image/png": "[encoded data removed]"
          },
          "metadata": {
            "needs_background": "light"
          }
        }
      ],
      "source": [
        "#Run our function....\n",
        "model = run_rf_classification_models(X_downsampled, X_test, y_downsampled, y_test)"
      ]
    },
    {
      "cell_type": "markdown",
      "id": "5e6ea491",
      "metadata": {
        "id": "5e6ea491"
      },
      "source": [
        "As we can see, all up and down sampling approaches have outperformed the F1 Score on the imbalanced data. The most impressive performance in this case is from up-sampling using SMOTE synthetic data."
      ]
    },
    {
      "cell_type": "markdown",
      "source": [
        "## Finally we check for Protected Characteristics ad their Proxies...\n",
        "\n",
        "We noted at the outset that there was a bias between the protected characterisctis of gender, with male and female credits being different, and we removed this protected characteristic from the dataset to avoid this illegal bias in loan approval outcomes.\n",
        "\n",
        "Protected characteristics can be picked up (proxied) in other dataitems in more subtle ways though. For instance given that single parent households tend to disproportionately be led by a female adult, this may make 'num_dependents' a proxy for gender.\n",
        "\n",
        "It is important that we control for any possible protected biases, and one way of achieving this is to retrain our model using a mitigator, which trains by constraining the model weights to produce a balanced outcome between protected classes; male and female credits in this case."
      ],
      "metadata": {
        "id": "9yyhH3Y6c4VW"
      },
      "id": "9yyhH3Y6c4VW"
    },
    {
      "cell_type": "markdown",
      "source": [
        "Plot the accuracy of our model for all rows in the data set, plotting accuracy for our protected classes: by male and female credits."
      ],
      "metadata": {
        "id": "kTeGqjnupzwu"
      },
      "id": "kTeGqjnupzwu"
    },
    {
      "cell_type": "markdown",
      "source": [
        "Separate the data into train and test"
      ],
      "metadata": {
        "id": "qZmUmRp52Gv_"
      },
      "id": "qZmUmRp52Gv_"
    },
    {
      "cell_type": "code",
      "source": [
        "# Define X and y variables from scratch\n",
        "cols  = list(df.columns)\n",
        "cols.remove('class')\n",
        "\n",
        "# Contains only numerics\n",
        "X = df[cols]\n",
        "y = df['class']\n",
        "\n",
        "# Add binary variable where male=1, female=0\n",
        "X['gender'] = np.where(df_raw['gender'] == 'female', 1, 0)\n",
        "\n",
        "#Test and train set    \n",
        "X_train, X_test, y_train, y_test = train_test_split(X, y, test_size=0.3, random_state=None)"
      ],
      "metadata": {
        "id": "6HMicv_41B2H"
      },
      "id": "6HMicv_41B2H",
      "execution_count": 470,
      "outputs": []
    },
    {
      "cell_type": "markdown",
      "source": [
        "Train our classifier using the SMOTE upsampling"
      ],
      "metadata": {
        "id": "fE4QnGAd2K5F"
      },
      "id": "fE4QnGAd2K5F"
    },
    {
      "cell_type": "code",
      "source": [
        "#How many samples do we need to balance?\n",
        "idx = np.random.choice(X_train.shape[0], size=X_train[y_train == 0].shape[0]-X_train[y_train == 1].shape[0], replace=False)\n",
        "\n",
        "# Generate SMOTE samples and use this to train\n",
        "upsampler_smote = SMOTE()\n",
        "X_upsampled_smote, y_upsampled_smote = upsampler_smote.fit_resample(X_train, y_train)"
      ],
      "metadata": {
        "id": "wWUdyVsZ2E3f"
      },
      "id": "wWUdyVsZ2E3f",
      "execution_count": 471,
      "outputs": []
    },
    {
      "cell_type": "markdown",
      "source": [
        "Train the classifier"
      ],
      "metadata": {
        "id": "IG1AZwuL2sgd"
      },
      "id": "IG1AZwuL2sgd"
    },
    {
      "cell_type": "code",
      "source": [
        "#Remove the gender column\n",
        "X_upsampled_smote_exgender = X_upsampled_smote.drop('gender', axis=1)\n",
        "X_test_exgender = X_test.drop('gender', axis=1)\n",
        "\n",
        "#Run our function....\n",
        "model = run_rf_classification_models(X_upsampled_smote_exgender, X_test_exgender, y_upsampled_smote, y_test)"
      ],
      "metadata": {
        "id": "85dGw5XU2rwV",
        "outputId": "5a2e1612-7842-4801-9216-f091682970a9",
        "colab": {
          "base_uri": "https://localhost:8080/",
          "height": 424
        }
      },
      "id": "85dGw5XU2rwV",
      "execution_count": 472,
      "outputs": [
        {
          "output_type": "stream",
          "name": "stdout",
          "text": [
            "<class 'sklearn.ensemble._forest.RandomForestClassifier'>\n",
            "Accuracy train: 0.8557, test:  0.7033\n",
            "Precision train: 0.8808, test:  0.8580\n",
            "Recall train: 0.8227, test:  0.7023\n",
            "F1 train: 0.8603, test:  0.5742\n"
          ]
        },
        {
          "output_type": "display_data",
          "data": {
            "text/plain": [
              "<Figure size 432x288 with 2 Axes>"
            ],
            "image/png": "[encoded data removed]"
          },
          "metadata": {
            "needs_background": "light"
          }
        }
      ]
    },
    {
      "cell_type": "code",
      "source": [
        "from fairlearn.metrics import MetricFrame\n",
        "from sklearn.metrics import accuracy_score\n",
        "\n",
        "# Run classifier, in sample\n",
        "y_pred = model.predict(X_test_exgender)\n",
        "\n",
        "# Analyze metrics using MetricFrame\n",
        "metric_frame = MetricFrame(metrics=accuracy_score, y_true=y_test, y_pred=y_pred, sensitive_features=X_test['gender'])\n",
        "metric_frame.by_group.plot.bar(\n",
        "    subplots=True,\n",
        "    layout=[3, 3],\n",
        "    legend=False,\n",
        "    figsize=[12, 8],\n",
        "    title=\"Show all metrics\",\n",
        ")"
      ],
      "metadata": {
        "colab": {
          "base_uri": "https://localhost:8080/",
          "height": 452
        },
        "id": "apn7X0tIfYXe",
        "outputId": "580d9ef7-6f32-4cdb-fc52-03cef5bac7ec"
      },
      "id": "apn7X0tIfYXe",
      "execution_count": 473,
      "outputs": [
        {
          "output_type": "stream",
          "name": "stderr",
          "text": [
            "/usr/local/lib/python3.7/dist-packages/sklearn/base.py:444: UserWarning: X has feature names, but RandomForestClassifier was fitted without feature names\n",
            "  f\"X has feature names, but {self.__class__.__name__} was fitted without\"\n"
          ]
        },
        {
          "output_type": "execute_result",
          "data": {
            "text/plain": [
              "array([[<matplotlib.axes._subplots.AxesSubplot object at 0x7f36495525d0>,\n",
              "        <matplotlib.axes._subplots.AxesSubplot object at 0x7f3649756510>,\n",
              "        <matplotlib.axes._subplots.AxesSubplot object at 0x7f3649635610>],\n",
              "       [<matplotlib.axes._subplots.AxesSubplot object at 0x7f364a639810>,\n",
              "        <matplotlib.axes._subplots.AxesSubplot object at 0x7f36481dd850>,\n",
              "        <matplotlib.axes._subplots.AxesSubplot object at 0x7f3649599c50>],\n",
              "       [<matplotlib.axes._subplots.AxesSubplot object at 0x7f364a2a7210>,\n",
              "        <matplotlib.axes._subplots.AxesSubplot object at 0x7f36490a8150>,\n",
              "        <matplotlib.axes._subplots.AxesSubplot object at 0x7f36490a8850>]],\n",
              "      dtype=object)"
            ]
          },
          "metadata": {},
          "execution_count": 473
        },
        {
          "output_type": "display_data",
          "data": {
            "text/plain": [
              "<Figure size 864x576 with 9 Axes>"
            ],
            "image/png": "[encoded data removed]"
          },
          "metadata": {
            "needs_background": "light"
          }
        }
      ]
    },
    {
      "cell_type": "markdown",
      "source": [
        "The balance almost equal, this indicates that our model is tending to show now bias based non gender, which indicates that removing the protected dataitem in thefirst place has had a balancing effect on the outcomes. \n",
        "\n",
        "However, we can still explicuitly remove correlated features, and constrain model training to remove bias."
      ],
      "metadata": {
        "id": "6efw9jQlqDse"
      },
      "id": "6efw9jQlqDse"
    },
    {
      "cell_type": "markdown",
      "source": [
        "### Removing features correlated with protected characteristics"
      ],
      "metadata": {
        "id": "wfSaSlGfw66d"
      },
      "id": "wfSaSlGfw66d"
    },
    {
      "cell_type": "code",
      "source": [
        "from fairlearn.reductions import ExponentiatedGradient, DemographicParity\n",
        "from fairlearn.preprocessing import CorrelationRemover\n",
        "from fairlearn.metrics import MetricFrame"
      ],
      "metadata": {
        "id": "7nuZPQqodXFd"
      },
      "id": "7nuZPQqodXFd",
      "execution_count": 474,
      "outputs": []
    },
    {
      "cell_type": "code",
      "source": [
        "# List all the columns that are sensitive, supply in a list...\n",
        "cr = CorrelationRemover(sensitive_feature_ids=['gender'])\n",
        "cr.fit(X_upsampled_smote)\n",
        "X_upsampled_smote_cr = cr.transform(X_upsampled_smote)"
      ],
      "metadata": {
        "id": "JaBH-jZFsAlV"
      },
      "id": "JaBH-jZFsAlV",
      "execution_count": 478,
      "outputs": []
    },
    {
      "cell_type": "code",
      "source": [
        "# We set the balance in the population so we do not under or over-represent males or females...\n",
        "constraint = DemographicParity(ratio_bound=0.5)\n",
        "\n",
        "mitigator = ExponentiatedGradient(model, constraint)\n",
        "mitigator.fit(X_upsampled_smote_cr, y_train, sensitive_features=['gender'])\n",
        "y_pred_mitigated = mitigator.predict(X_test_exgender)\n",
        "\n",
        "sr_mitigated = MetricFrame(metrics=accuracy_score, y_true=y_test, y_pred=y_pred_mitigated, sensitive_features=X_upsampled_smote['gender'])\n",
        "print(sr_mitigated.overall)\n",
        "print(sr_mitigated.by_group)"
      ],
      "metadata": {
        "colab": {
          "base_uri": "https://localhost:8080/",
          "height": 380
        },
        "id": "lHoBhbgGNWx-",
        "outputId": "b1e8acb8-7524-4543-a9f1-fa55acf3d355"
      },
      "id": "lHoBhbgGNWx-",
      "execution_count": 479,
      "outputs": [
        {
          "output_type": "error",
          "ename": "ValueError",
          "evalue": "ignored",
          "traceback": [
            "\u001b[0;31m---------------------------------------------------------------------------\u001b[0m",
            "\u001b[0;31mValueError\u001b[0m                                Traceback (most recent call last)",
            "\u001b[0;32m<ipython-input-479-f637d020a068>\u001b[0m in \u001b[0;36m<module>\u001b[0;34m\u001b[0m\n\u001b[1;32m      3\u001b[0m \u001b[0;34m\u001b[0m\u001b[0m\n\u001b[1;32m      4\u001b[0m \u001b[0mmitigator\u001b[0m \u001b[0;34m=\u001b[0m \u001b[0mExponentiatedGradient\u001b[0m\u001b[0;34m(\u001b[0m\u001b[0mmodel\u001b[0m\u001b[0;34m,\u001b[0m \u001b[0mconstraint\u001b[0m\u001b[0;34m)\u001b[0m\u001b[0;34m\u001b[0m\u001b[0;34m\u001b[0m\u001b[0m\n\u001b[0;32m----> 5\u001b[0;31m \u001b[0mmitigator\u001b[0m\u001b[0;34m.\u001b[0m\u001b[0mfit\u001b[0m\u001b[0;34m(\u001b[0m\u001b[0mX_upsampled_smote_cr\u001b[0m\u001b[0;34m,\u001b[0m \u001b[0my_train\u001b[0m\u001b[0;34m,\u001b[0m \u001b[0msensitive_features\u001b[0m\u001b[0;34m=\u001b[0m\u001b[0;34m[\u001b[0m\u001b[0;34m'gender'\u001b[0m\u001b[0;34m]\u001b[0m\u001b[0;34m)\u001b[0m\u001b[0;34m\u001b[0m\u001b[0;34m\u001b[0m\u001b[0m\n\u001b[0m\u001b[1;32m      6\u001b[0m \u001b[0my_pred_mitigated\u001b[0m \u001b[0;34m=\u001b[0m \u001b[0mmitigator\u001b[0m\u001b[0;34m.\u001b[0m\u001b[0mpredict\u001b[0m\u001b[0;34m(\u001b[0m\u001b[0mX_test_exgender\u001b[0m\u001b[0;34m)\u001b[0m\u001b[0;34m\u001b[0m\u001b[0;34m\u001b[0m\u001b[0m\n\u001b[1;32m      7\u001b[0m \u001b[0;34m\u001b[0m\u001b[0m\n",
            "\u001b[0;32m/usr/local/lib/python3.7/dist-packages/fairlearn/reductions/_exponentiated_gradient/exponentiated_gradient.py\u001b[0m in \u001b[0;36mfit\u001b[0;34m(self, X, y, **kwargs)\u001b[0m\n\u001b[1;32m     89\u001b[0m                                  \u001b[0mself\u001b[0m\u001b[0;34m.\u001b[0m\u001b[0mconstraints\u001b[0m\u001b[0;34m,\u001b[0m \u001b[0mB\u001b[0m\u001b[0;34m,\u001b[0m\u001b[0;34m\u001b[0m\u001b[0;34m\u001b[0m\u001b[0m\n\u001b[1;32m     90\u001b[0m                                  \u001b[0msample_weight_name\u001b[0m\u001b[0;34m=\u001b[0m\u001b[0mself\u001b[0m\u001b[0;34m.\u001b[0m\u001b[0msample_weight_name\u001b[0m\u001b[0;34m,\u001b[0m\u001b[0;34m\u001b[0m\u001b[0;34m\u001b[0m\u001b[0m\n\u001b[0;32m---> 91\u001b[0;31m                                  **kwargs)\n\u001b[0m\u001b[1;32m     92\u001b[0m \u001b[0;34m\u001b[0m\u001b[0m\n\u001b[1;32m     93\u001b[0m         \u001b[0mtheta\u001b[0m \u001b[0;34m=\u001b[0m \u001b[0mpd\u001b[0m\u001b[0;34m.\u001b[0m\u001b[0mSeries\u001b[0m\u001b[0;34m(\u001b[0m\u001b[0;36m0\u001b[0m\u001b[0;34m,\u001b[0m \u001b[0mlagrangian\u001b[0m\u001b[0;34m.\u001b[0m\u001b[0mconstraints\u001b[0m\u001b[0;34m.\u001b[0m\u001b[0mindex\u001b[0m\u001b[0;34m)\u001b[0m\u001b[0;34m\u001b[0m\u001b[0;34m\u001b[0m\u001b[0m\n",
            "\u001b[0;32m/usr/local/lib/python3.7/dist-packages/fairlearn/reductions/_exponentiated_gradient/_lagrangian.py\u001b[0m in \u001b[0;36m__init__\u001b[0;34m(self, X, y, estimator, constraints, B, opt_lambda, sample_weight_name, **kwargs)\u001b[0m\n\u001b[1;32m     47\u001b[0m                  sample_weight_name='sample_weight', **kwargs):\n\u001b[1;32m     48\u001b[0m         \u001b[0mself\u001b[0m\u001b[0;34m.\u001b[0m\u001b[0mconstraints\u001b[0m \u001b[0;34m=\u001b[0m \u001b[0mconstraints\u001b[0m\u001b[0;34m\u001b[0m\u001b[0;34m\u001b[0m\u001b[0m\n\u001b[0;32m---> 49\u001b[0;31m         \u001b[0mself\u001b[0m\u001b[0;34m.\u001b[0m\u001b[0mconstraints\u001b[0m\u001b[0;34m.\u001b[0m\u001b[0mload_data\u001b[0m\u001b[0;34m(\u001b[0m\u001b[0mX\u001b[0m\u001b[0;34m,\u001b[0m \u001b[0my\u001b[0m\u001b[0;34m,\u001b[0m \u001b[0;34m**\u001b[0m\u001b[0mkwargs\u001b[0m\u001b[0;34m)\u001b[0m\u001b[0;34m\u001b[0m\u001b[0;34m\u001b[0m\u001b[0m\n\u001b[0m\u001b[1;32m     50\u001b[0m         \u001b[0mself\u001b[0m\u001b[0;34m.\u001b[0m\u001b[0mobj\u001b[0m \u001b[0;34m=\u001b[0m \u001b[0mself\u001b[0m\u001b[0;34m.\u001b[0m\u001b[0mconstraints\u001b[0m\u001b[0;34m.\u001b[0m\u001b[0mdefault_objective\u001b[0m\u001b[0;34m(\u001b[0m\u001b[0;34m)\u001b[0m\u001b[0;34m\u001b[0m\u001b[0;34m\u001b[0m\u001b[0m\n\u001b[1;32m     51\u001b[0m         \u001b[0mself\u001b[0m\u001b[0;34m.\u001b[0m\u001b[0mobj\u001b[0m\u001b[0;34m.\u001b[0m\u001b[0mload_data\u001b[0m\u001b[0;34m(\u001b[0m\u001b[0mX\u001b[0m\u001b[0;34m,\u001b[0m \u001b[0my\u001b[0m\u001b[0;34m,\u001b[0m \u001b[0;34m**\u001b[0m\u001b[0mkwargs\u001b[0m\u001b[0;34m)\u001b[0m\u001b[0;34m\u001b[0m\u001b[0;34m\u001b[0m\u001b[0m\n",
            "\u001b[0;32m/usr/local/lib/python3.7/dist-packages/fairlearn/reductions/_moments/utility_parity.py\u001b[0m in \u001b[0;36mload_data\u001b[0;34m(self, X, y, sensitive_features, control_features)\u001b[0m\n\u001b[1;32m    309\u001b[0m                                          \u001b[0menforce_binary_labels\u001b[0m\u001b[0;34m=\u001b[0m\u001b[0;32mTrue\u001b[0m\u001b[0;34m,\u001b[0m\u001b[0;34m\u001b[0m\u001b[0;34m\u001b[0m\u001b[0m\n\u001b[1;32m    310\u001b[0m                                          \u001b[0msensitive_features\u001b[0m\u001b[0;34m=\u001b[0m\u001b[0msensitive_features\u001b[0m\u001b[0;34m,\u001b[0m\u001b[0;34m\u001b[0m\u001b[0;34m\u001b[0m\u001b[0m\n\u001b[0;32m--> 311\u001b[0;31m                                          control_features=control_features)\n\u001b[0m\u001b[1;32m    312\u001b[0m \u001b[0;34m\u001b[0m\u001b[0m\n\u001b[1;32m    313\u001b[0m         \u001b[0mbase_event\u001b[0m \u001b[0;34m=\u001b[0m \u001b[0mpd\u001b[0m\u001b[0;34m.\u001b[0m\u001b[0mSeries\u001b[0m\u001b[0;34m(\u001b[0m\u001b[0mdata\u001b[0m\u001b[0;34m=\u001b[0m\u001b[0m_ALL\u001b[0m\u001b[0;34m,\u001b[0m \u001b[0mindex\u001b[0m\u001b[0;34m=\u001b[0m\u001b[0my_train\u001b[0m\u001b[0;34m.\u001b[0m\u001b[0mindex\u001b[0m\u001b[0;34m)\u001b[0m\u001b[0;34m\u001b[0m\u001b[0;34m\u001b[0m\u001b[0m\n",
            "\u001b[0;32m/usr/local/lib/python3.7/dist-packages/fairlearn/utils/_input_validation.py\u001b[0m in \u001b[0;36m_validate_and_reformat_input\u001b[0;34m(X, y, expect_y, enforce_binary_labels, **kwargs)\u001b[0m\n\u001b[1;32m     70\u001b[0m             \u001b[0my\u001b[0m \u001b[0;34m=\u001b[0m \u001b[0my\u001b[0m\u001b[0;34m.\u001b[0m\u001b[0mto_numpy\u001b[0m\u001b[0;34m(\u001b[0m\u001b[0;34m)\u001b[0m\u001b[0;34m.\u001b[0m\u001b[0mreshape\u001b[0m\u001b[0;34m(\u001b[0m\u001b[0;34m-\u001b[0m\u001b[0;36m1\u001b[0m\u001b[0;34m)\u001b[0m\u001b[0;34m\u001b[0m\u001b[0;34m\u001b[0m\u001b[0m\n\u001b[1;32m     71\u001b[0m \u001b[0;34m\u001b[0m\u001b[0m\n\u001b[0;32m---> 72\u001b[0;31m         \u001b[0mX\u001b[0m\u001b[0;34m,\u001b[0m \u001b[0my\u001b[0m \u001b[0;34m=\u001b[0m \u001b[0mcheck_X_y\u001b[0m\u001b[0;34m(\u001b[0m\u001b[0mX\u001b[0m\u001b[0;34m,\u001b[0m \u001b[0my\u001b[0m\u001b[0;34m)\u001b[0m\u001b[0;34m\u001b[0m\u001b[0;34m\u001b[0m\u001b[0m\n\u001b[0m\u001b[1;32m     73\u001b[0m         \u001b[0my\u001b[0m \u001b[0;34m=\u001b[0m \u001b[0mcheck_array\u001b[0m\u001b[0;34m(\u001b[0m\u001b[0my\u001b[0m\u001b[0;34m,\u001b[0m \u001b[0mensure_2d\u001b[0m\u001b[0;34m=\u001b[0m\u001b[0;32mFalse\u001b[0m\u001b[0;34m,\u001b[0m \u001b[0mdtype\u001b[0m\u001b[0;34m=\u001b[0m\u001b[0;34m'numeric'\u001b[0m\u001b[0;34m)\u001b[0m\u001b[0;34m\u001b[0m\u001b[0;34m\u001b[0m\u001b[0m\n\u001b[1;32m     74\u001b[0m         \u001b[0;32mif\u001b[0m \u001b[0menforce_binary_labels\u001b[0m \u001b[0;32mand\u001b[0m \u001b[0;32mnot\u001b[0m \u001b[0mset\u001b[0m\u001b[0;34m(\u001b[0m\u001b[0mnp\u001b[0m\u001b[0;34m.\u001b[0m\u001b[0munique\u001b[0m\u001b[0;34m(\u001b[0m\u001b[0my\u001b[0m\u001b[0;34m)\u001b[0m\u001b[0;34m)\u001b[0m\u001b[0;34m.\u001b[0m\u001b[0missubset\u001b[0m\u001b[0;34m(\u001b[0m\u001b[0mset\u001b[0m\u001b[0;34m(\u001b[0m\u001b[0;34m[\u001b[0m\u001b[0;36m0\u001b[0m\u001b[0;34m,\u001b[0m \u001b[0;36m1\u001b[0m\u001b[0;34m]\u001b[0m\u001b[0;34m)\u001b[0m\u001b[0;34m)\u001b[0m\u001b[0;34m:\u001b[0m\u001b[0;34m\u001b[0m\u001b[0;34m\u001b[0m\u001b[0m\n",
            "\u001b[0;32m/usr/local/lib/python3.7/dist-packages/sklearn/utils/validation.py\u001b[0m in \u001b[0;36mcheck_X_y\u001b[0;34m(X, y, accept_sparse, accept_large_sparse, dtype, order, copy, force_all_finite, ensure_2d, allow_nd, multi_output, ensure_min_samples, ensure_min_features, y_numeric, estimator)\u001b[0m\n\u001b[1;32m    979\u001b[0m     \u001b[0my\u001b[0m \u001b[0;34m=\u001b[0m \u001b[0m_check_y\u001b[0m\u001b[0;34m(\u001b[0m\u001b[0my\u001b[0m\u001b[0;34m,\u001b[0m \u001b[0mmulti_output\u001b[0m\u001b[0;34m=\u001b[0m\u001b[0mmulti_output\u001b[0m\u001b[0;34m,\u001b[0m \u001b[0my_numeric\u001b[0m\u001b[0;34m=\u001b[0m\u001b[0my_numeric\u001b[0m\u001b[0;34m)\u001b[0m\u001b[0;34m\u001b[0m\u001b[0;34m\u001b[0m\u001b[0m\n\u001b[1;32m    980\u001b[0m \u001b[0;34m\u001b[0m\u001b[0m\n\u001b[0;32m--> 981\u001b[0;31m     \u001b[0mcheck_consistent_length\u001b[0m\u001b[0;34m(\u001b[0m\u001b[0mX\u001b[0m\u001b[0;34m,\u001b[0m \u001b[0my\u001b[0m\u001b[0;34m)\u001b[0m\u001b[0;34m\u001b[0m\u001b[0;34m\u001b[0m\u001b[0m\n\u001b[0m\u001b[1;32m    982\u001b[0m \u001b[0;34m\u001b[0m\u001b[0m\n\u001b[1;32m    983\u001b[0m     \u001b[0;32mreturn\u001b[0m \u001b[0mX\u001b[0m\u001b[0;34m,\u001b[0m \u001b[0my\u001b[0m\u001b[0;34m\u001b[0m\u001b[0;34m\u001b[0m\u001b[0m\n",
            "\u001b[0;32m/usr/local/lib/python3.7/dist-packages/sklearn/utils/validation.py\u001b[0m in \u001b[0;36mcheck_consistent_length\u001b[0;34m(*arrays)\u001b[0m\n\u001b[1;32m    332\u001b[0m         raise ValueError(\n\u001b[1;32m    333\u001b[0m             \u001b[0;34m\"Found input variables with inconsistent numbers of samples: %r\"\u001b[0m\u001b[0;34m\u001b[0m\u001b[0;34m\u001b[0m\u001b[0m\n\u001b[0;32m--> 334\u001b[0;31m             \u001b[0;34m%\u001b[0m \u001b[0;34m[\u001b[0m\u001b[0mint\u001b[0m\u001b[0;34m(\u001b[0m\u001b[0ml\u001b[0m\u001b[0;34m)\u001b[0m \u001b[0;32mfor\u001b[0m \u001b[0ml\u001b[0m \u001b[0;32min\u001b[0m \u001b[0mlengths\u001b[0m\u001b[0;34m]\u001b[0m\u001b[0;34m\u001b[0m\u001b[0;34m\u001b[0m\u001b[0m\n\u001b[0m\u001b[1;32m    335\u001b[0m         )\n\u001b[1;32m    336\u001b[0m \u001b[0;34m\u001b[0m\u001b[0m\n",
            "\u001b[0;31mValueError\u001b[0m: Found input variables with inconsistent numbers of samples: [970, 700]"
          ]
        }
      ]
    },
    {
      "cell_type": "markdown",
      "source": [
        "Let us inspect the results between the \"fair\" model outcomes and the potentially biased...."
      ],
      "metadata": {
        "id": "cVV8YHYuwfRU"
      },
      "id": "cVV8YHYuwfRU"
    },
    {
      "cell_type": "code",
      "source": [
        "\n",
        "#Print confusion matrix...\n",
        "cf_matrix = confusion_matrix(y, y_pred_mitigated, labels=[0, 1]) \n",
        "cf_matrix_norm = cf_matrix.astype('float') # / cf_matrix.sum(axis=1)[:, np.newaxis]\n",
        "\n",
        "ax = sns.heatmap(cf_matrix_norm, annot=True, cmap='Reds', fmt='g')\n",
        "ax.set_title('Confusion Matrix Bias Mitigated\\n\\n');\n",
        "ax.set_xlabel('\\nPredicted Values')\n",
        "ax.set_ylabel('Actual Values ');\n",
        "plt.show()\n",
        "\n",
        "print(f\"F1 full dataset: {f1_score(y, y_pred_mitigated, average=None)[1]:.4f}\")\n",
        "  \n",
        "# Analyze metrics using MetricFrame\n",
        "metric_frame = MetricFrame(metrics=accuracy_score, y_true=y, y_pred=y_pred_mitigated, sensitive_features=df_raw['gender'])\n",
        "metric_frame.by_group.plot.bar(\n",
        "    subplots=True,\n",
        "    layout=[3, 3],\n",
        "    legend=False,\n",
        "    figsize=[12, 8],\n",
        "    title=\"Show all metrics\",\n",
        ")"
      ],
      "metadata": {
        "colab": {
          "base_uri": "https://localhost:8080/",
          "height": 783
        },
        "id": "CW7SaIErqgQ1",
        "outputId": "f43b41f8-1d67-4f1c-85b1-4e1d6bf78d66"
      },
      "id": "CW7SaIErqgQ1",
      "execution_count": 463,
      "outputs": [
        {
          "output_type": "display_data",
          "data": {
            "text/plain": [
              "<Figure size 432x288 with 2 Axes>"
            ],
            "image/png": "[encoded data removed]"
          },
          "metadata": {
            "needs_background": "light"
          }
        },
        {
          "output_type": "stream",
          "name": "stdout",
          "text": [
            "F1 full dataset: 1.0000\n"
          ]
        },
        {
          "output_type": "execute_result",
          "data": {
            "text/plain": [
              "array([[<matplotlib.axes._subplots.AxesSubplot object at 0x7f3647fc4450>,\n",
              "        <matplotlib.axes._subplots.AxesSubplot object at 0x7f3647c25b90>,\n",
              "        <matplotlib.axes._subplots.AxesSubplot object at 0x7f3647d64590>],\n",
              "       [<matplotlib.axes._subplots.AxesSubplot object at 0x7f3648b4ba90>,\n",
              "        <matplotlib.axes._subplots.AxesSubplot object at 0x7f3648d91f90>,\n",
              "        <matplotlib.axes._subplots.AxesSubplot object at 0x7f36485f14d0>],\n",
              "       [<matplotlib.axes._subplots.AxesSubplot object at 0x7f36486774d0>,\n",
              "        <matplotlib.axes._subplots.AxesSubplot object at 0x7f3647c69850>,\n",
              "        <matplotlib.axes._subplots.AxesSubplot object at 0x7f3647c69890>]],\n",
              "      dtype=object)"
            ]
          },
          "metadata": {},
          "execution_count": 463
        },
        {
          "output_type": "display_data",
          "data": {
            "text/plain": [
              "<Figure size 864x576 with 9 Axes>"
            ],
            "image/png": "[encoded data removed]"
          },
          "metadata": {
            "needs_background": "light"
          }
        }
      ]
    },
    {
      "cell_type": "code",
      "source": [
        "#Print confusion matrix... for the unmitigated classifer...\n",
        "cf_matrix = confusion_matrix(y, y_pred, labels=[0, 1]) \n",
        "cf_matrix_norm = cf_matrix.astype('float') # / cf_matrix.sum(axis=1)[:, np.newaxis]\n",
        "\n",
        "ax = sns.heatmap(cf_matrix_norm, annot=True, cmap='Blues', fmt='g')\n",
        "ax.set_title('Confusion Matrix Non-Mitigated\\n\\n');\n",
        "ax.set_xlabel('\\nPredicted Values')\n",
        "ax.set_ylabel('Actual Values ');\n",
        "plt.show()\n",
        "\n",
        "print(f\"F1 full dataset: {f1_score(y, y_pred, average=None)[1]:.4f}\")\n",
        "\n",
        "\n",
        "# Analyze metrics using MetricFrame\n",
        "metric_frame = MetricFrame(metrics=accuracy_score, y_true=y, y_pred=y_pred, sensitive_features=df_raw['gender'])\n",
        "metric_frame.by_group.plot.bar(\n",
        "    subplots=True,\n",
        "    layout=[3, 3],\n",
        "    legend=False,\n",
        "    figsize=[12, 8],\n",
        "    title=\"Show all metrics\",\n",
        ")"
      ],
      "metadata": {
        "colab": {
          "base_uri": "https://localhost:8080/",
          "height": 783
        },
        "id": "fyHNuQeXqt12",
        "outputId": "f7478398-cf11-480d-a3f7-da765f408a27"
      },
      "id": "fyHNuQeXqt12",
      "execution_count": 464,
      "outputs": [
        {
          "output_type": "display_data",
          "data": {
            "text/plain": [
              "<Figure size 432x288 with 2 Axes>"
            ],
            "image/png": "[encoded data removed]"
          },
          "metadata": {
            "needs_background": "light"
          }
        },
        {
          "output_type": "stream",
          "name": "stdout",
          "text": [
            "F1 full dataset: 0.5660\n"
          ]
        },
        {
          "output_type": "execute_result",
          "data": {
            "text/plain": [
              "array([[<matplotlib.axes._subplots.AxesSubplot object at 0x7f36486e52d0>,\n",
              "        <matplotlib.axes._subplots.AxesSubplot object at 0x7f3647ed3c90>,\n",
              "        <matplotlib.axes._subplots.AxesSubplot object at 0x7f3647e16110>],\n",
              "       [<matplotlib.axes._subplots.AxesSubplot object at 0x7f3647dcc610>,\n",
              "        <matplotlib.axes._subplots.AxesSubplot object at 0x7f3647bc3b10>,\n",
              "        <matplotlib.axes._subplots.AxesSubplot object at 0x7f3647bfafd0>],\n",
              "       [<matplotlib.axes._subplots.AxesSubplot object at 0x7f3648aa7590>,\n",
              "        <matplotlib.axes._subplots.AxesSubplot object at 0x7f3647ff9810>,\n",
              "        <matplotlib.axes._subplots.AxesSubplot object at 0x7f3647ff9d10>]],\n",
              "      dtype=object)"
            ]
          },
          "metadata": {},
          "execution_count": 464
        },
        {
          "output_type": "display_data",
          "data": {
            "text/plain": [
              "<Figure size 864x576 with 9 Axes>"
            ],
            "image/png": "[encoded data removed]"
          },
          "metadata": {
            "needs_background": "light"
          }
        }
      ]
    }
  ],
  "metadata": {
    "kernelspec": {
      "display_name": "Python 3",
      "language": "python",
      "name": "python3"
    },
    "language_info": {
      "codemirror_mode": {
        "name": "ipython",
        "version": 3
      },
      "file_extension": ".py",
      "mimetype": "text/x-python",
      "name": "python",
      "nbconvert_exporter": "python",
      "pygments_lexer": "ipython3",
      "version": "3.8.8"
    },
    "colab": {
      "provenance": []
    }
  },
  "nbformat": 4,
  "nbformat_minor": 5
}